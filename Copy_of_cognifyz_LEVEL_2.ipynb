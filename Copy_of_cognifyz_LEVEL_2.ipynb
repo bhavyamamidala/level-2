{
  "nbformat": 4,
  "nbformat_minor": 0,
  "metadata": {
    "colab": {
      "provenance": [],
      "include_colab_link": true
    },
    "kernelspec": {
      "name": "python3",
      "display_name": "Python 3"
    },
    "language_info": {
      "name": "python"
    }
  },
  "cells": [
    {
      "cell_type": "markdown",
      "metadata": {
        "id": "view-in-github",
        "colab_type": "text"
      },
      "source": [
        "<a href=\"https://colab.research.google.com/github/bhavyamamidala/level-2/blob/main/Copy_of_cognifyz_LEVEL_2.ipynb\" target=\"_parent\"><img src=\"https://colab.research.google.com/assets/colab-badge.svg\" alt=\"Open In Colab\"/></a>"
      ]
    },
    {
      "cell_type": "markdown",
      "source": [
        "# **LEVEL 2**"
      ],
      "metadata": {
        "id": "WkWwaSuPLyo9"
      }
    },
    {
      "cell_type": "code",
      "source": [],
      "metadata": {
        "id": "lIIovZuXWMO4"
      },
      "execution_count": null,
      "outputs": []
    },
    {
      "cell_type": "markdown",
      "source": [
        "**Task 1:Table Booking and Online Delivery**"
      ],
      "metadata": {
        "id": "KoAIorLWyXSZ"
      }
    },
    {
      "cell_type": "code",
      "execution_count": null,
      "metadata": {
        "id": "U-VWFnGIyKsl"
      },
      "outputs": [],
      "source": [
        "import pandas as pd\n",
        "import matplotlib.pyplot as plt\n",
        "import seaborn as sns"
      ]
    },
    {
      "cell_type": "markdown",
      "source": [
        "Determine the percentage of restaurants that\n",
        "offer table booking and online delivery"
      ],
      "metadata": {
        "id": "QLDzLOCHK8C_"
      }
    },
    {
      "cell_type": "code",
      "source": [
        "data = pd.read_csv('/content/drive/MyDrive/Dataset.csv')\n",
        "restaurants_with_table_booking = data[data['Has Table booking'] == 'Yes']\n",
        "total_restaurants = len(data)\n",
        "percentage_with_table_booking = (len(restaurants_with_table_booking) / total_restaurants) * 100\n",
        "restaurants_with_online_delivery = data[data['Has Online delivery'] == 'Yes']\n",
        "percentage_with_online_delivery = (len(restaurants_with_online_delivery) / total_restaurants) * 100\n",
        "print(f\"Percentage of restaurants with table booking: {percentage_with_table_booking:.2f}%\")\n",
        "print(f\"Percentage of restaurants with online delivery: {percentage_with_online_delivery:.2f}%\")\n"
      ],
      "metadata": {
        "colab": {
          "base_uri": "https://localhost:8080/"
        },
        "id": "qUTnzHBXC6gc",
        "outputId": "13c682bf-6b28-4a7f-98e8-7439881054db"
      },
      "execution_count": null,
      "outputs": [
        {
          "output_type": "stream",
          "name": "stdout",
          "text": [
            "Percentage of restaurants with table booking: 12.12%\n",
            "Percentage of restaurants with online delivery: 25.66%\n"
          ]
        }
      ]
    },
    {
      "cell_type": "code",
      "source": [
        "from google.colab import drive\n",
        "drive.mount('/content/drive')"
      ],
      "metadata": {
        "id": "rDjaFHyxgVH6",
        "outputId": "0f9f7533-33a8-4ad2-b3b9-ae7eb18eb318",
        "colab": {
          "base_uri": "https://localhost:8080/"
        }
      },
      "execution_count": null,
      "outputs": [
        {
          "output_type": "stream",
          "name": "stdout",
          "text": [
            "Mounted at /content/drive\n"
          ]
        }
      ]
    },
    {
      "cell_type": "markdown",
      "source": [
        "Compare the average ratings of restaurants\n",
        "with table booking and those without"
      ],
      "metadata": {
        "id": "7ttVMDkELCo7"
      }
    },
    {
      "cell_type": "code",
      "source": [
        "average_rating_with_table_booking = data[data['Has Table booking'] == 'Yes']['Aggregate rating'].mean()\n",
        "average_rating_without_table_booking = data[data['Has Table booking'] == 'No']['Aggregate rating'].mean()\n",
        "print(f\"Average rating for restaurants with table booking: {average_rating_with_table_booking:.2f}\")\n",
        "print(f\"Average rating for restaurants without table booking: {average_rating_without_table_booking:.2f}\")\n"
      ],
      "metadata": {
        "colab": {
          "base_uri": "https://localhost:8080/"
        },
        "id": "NKtj0BvxBrwb",
        "outputId": "739a75dc-f163-44cf-9f3c-519a127044ac"
      },
      "execution_count": null,
      "outputs": [
        {
          "output_type": "stream",
          "name": "stdout",
          "text": [
            "Average rating for restaurants with table booking: 3.44\n",
            "Average rating for restaurants without table booking: 2.56\n"
          ]
        }
      ]
    },
    {
      "cell_type": "markdown",
      "source": [
        "Analyze the availability of online delivery\n",
        "among restaurants with different price ranges."
      ],
      "metadata": {
        "id": "DK0JP7_bLFwk"
      }
    },
    {
      "cell_type": "code",
      "source": [
        "price_ranges = ['Low', 'Medium', 'High']\n",
        "def categorize_price(price):\n",
        "    if price <= 300:\n",
        "        return 'Low'\n",
        "    elif price <= 600:\n",
        "        return 'Medium'\n",
        "    else:\n",
        "        return 'High'\n",
        "\n",
        "data['Price range'] = data['Average Cost for two'].apply(categorize_price)\n",
        "online_delivery_counts = data.groupby('Price range')['Has Online delivery'].value_counts(normalize=True).unstack()\n",
        "plt.figure(figsize=(8, 6))\n",
        "online_delivery_counts.plot(kind='bar', stacked=True)\n",
        "plt.title('Availability of Online Delivery Among Different Price Ranges')\n",
        "plt.xlabel('Price Range')\n",
        "plt.ylabel('Percentage')\n",
        "plt.xticks(rotation=0)\n",
        "plt.legend(title='Online Delivery')\n",
        "plt.tight_layout()\n",
        "plt.show()\n"
      ],
      "metadata": {
        "colab": {
          "base_uri": "https://localhost:8080/",
          "height": 504
        },
        "id": "iARn2gpnCEHq",
        "outputId": "653f6383-e9cb-4078-bac9-db9e247592df"
      },
      "execution_count": null,
      "outputs": [
        {
          "output_type": "display_data",
          "data": {
            "text/plain": [
              "<Figure size 800x600 with 0 Axes>"
            ]
          },
          "metadata": {}
        },
        {
          "output_type": "display_data",
          "data": {
            "text/plain": [
              "<Figure size 640x480 with 1 Axes>"
            ],
            "image/png": "[encoded data removed]"
          },
          "metadata": {}
        }
      ]
    },
    {
      "cell_type": "markdown",
      "source": [
        "**Task2: Price Range Analysis**"
      ],
      "metadata": {
        "id": "Xp5TWsf9DOHO"
      }
    },
    {
      "cell_type": "markdown",
      "source": [
        "Determine the most common price range\n",
        "among all the restaurants."
      ],
      "metadata": {
        "id": "ImCSFujeLJ-K"
      }
    },
    {
      "cell_type": "code",
      "source": [
        "price_ranges = {\n",
        "    'Low': (0, 100),\n",
        "    'Medium': (101, 600),\n",
        "    'High': (601, float('inf'))\n",
        "}\n",
        "def categorize_price(price):\n",
        "    for range_name, (min_value, max_value) in price_ranges.items():\n",
        "        if min_value <= price <= max_value:\n",
        "            return range_name\n",
        "\n",
        "data['Price range'] = data['Average Cost for two'].apply(categorize_price)\n",
        "most_common_price_range = data['Price range'].mode()[0]\n",
        "print(f\"The most common price range among all restaurants is: {most_common_price_range}\")\n"
      ],
      "metadata": {
        "colab": {
          "base_uri": "https://localhost:8080/"
        },
        "id": "lfG8ZWrHCuQu",
        "outputId": "1a06ff98-57cd-4bfb-abb1-4f3bc69b137b"
      },
      "execution_count": null,
      "outputs": [
        {
          "output_type": "stream",
          "name": "stdout",
          "text": [
            "The most common price range among all restaurants is: Medium\n"
          ]
        }
      ]
    },
    {
      "cell_type": "markdown",
      "source": [
        "Calculate the average rating for each price\n",
        "range"
      ],
      "metadata": {
        "id": "V9sJqlVmLNaE"
      }
    },
    {
      "cell_type": "code",
      "source": [
        "price_ranges = {\n",
        "    'Low': (0, 300),\n",
        "    'Medium': (301, 600),\n",
        "    'High': (601, float('inf'))\n",
        "}\n",
        "def categorize_price(price):\n",
        "    for range_name, (min_value, max_value) in price_ranges.items():\n",
        "        if min_value <= price <= max_value:\n",
        "            return range_name\n",
        "data['Price range'] = data['Average Cost for two'].apply(categorize_price)\n",
        "average_ratings_by_price_range = data.groupby('Price range')['Aggregate rating'].mean()\n",
        "highest_avg_rating_color = average_ratings_by_price_range.idxmax()\n",
        "print(\"Average Ratings by Price Range:\")\n",
        "print(average_ratings_by_price_range)\n",
        "print(f\"The color representing the highest average rating is: {highest_avg_rating_color}\")"
      ],
      "metadata": {
        "colab": {
          "base_uri": "https://localhost:8080/"
        },
        "id": "z7DD5HVAExnN",
        "outputId": "106165f8-0159-48aa-9265-672d0d96b3ae"
      },
      "execution_count": null,
      "outputs": [
        {
          "output_type": "stream",
          "name": "stdout",
          "text": [
            "Average Ratings by Price Range:\n",
            "Price range\n",
            "High      3.410766\n",
            "Low       2.228702\n",
            "Medium    2.540929\n",
            "Name: Aggregate rating, dtype: float64\n",
            "The color representing the highest average rating is: High\n"
          ]
        }
      ]
    },
    {
      "cell_type": "markdown",
      "source": [
        "Identify the color that represents the highest\n",
        "average rating among different price ranges.\n"
      ],
      "metadata": {
        "id": "HAehB0E8LR07"
      }
    },
    {
      "cell_type": "code",
      "source": [
        "plt.figure(figsize=(8, 6))\n",
        "sns.barplot(x=average_ratings_by_price_range.index, y=average_ratings_by_price_range.values)\n",
        "plt.title('Average Ratings by Price Range')\n",
        "plt.xlabel('Price Range')\n",
        "plt.ylabel('Average Rating')\n",
        "plt.xticks(rotation=0)\n",
        "plt.tight_layout()\n",
        "plt.show()\n"
      ],
      "metadata": {
        "colab": {
          "base_uri": "https://localhost:8080/",
          "height": 607
        },
        "id": "QznhkVixEz-U",
        "outputId": "aaabf754-ad1c-44a5-f637-e627d6e1d924"
      },
      "execution_count": null,
      "outputs": [
        {
          "output_type": "display_data",
          "data": {
            "text/plain": [
              "<Figure size 800x600 with 1 Axes>"
            ],
            "image/png": "[encoded data removed]"
          },
          "metadata": {}
        }
      ]
    },
    {
      "cell_type": "markdown",
      "source": [
        "**Task3: Feature Engineering**"
      ],
      "metadata": {
        "id": "L2KjUdPzIrf0"
      }
    },
    {
      "cell_type": "markdown",
      "source": [
        "Extract additional features from the existing\n",
        "columns, such as the length of the restaurant\n",
        "name or address"
      ],
      "metadata": {
        "id": "ZZXaJBSFLWNi"
      }
    },
    {
      "cell_type": "code",
      "source": [
        "data['Restaurant Name Length'] = data['Restaurant Name'].apply(len)\n",
        "data['Address Length'] = data['Address'].apply(len)\n",
        "print(data.head())\n",
        "\n"
      ],
      "metadata": {
        "colab": {
          "base_uri": "https://localhost:8080/"
        },
        "id": "EOJGhjwzI5Be",
        "outputId": "232a1bee-a0af-42b1-e901-55094c89d0a2"
      },
      "execution_count": null,
      "outputs": [
        {
          "output_type": "stream",
          "name": "stdout",
          "text": [
            "   Restaurant ID         Restaurant Name  Country Code              City  \\\n",
            "0        6317637        Le Petit Souffle           162       Makati City   \n",
            "1        6304287        Izakaya Kikufuji           162       Makati City   \n",
            "2        6300002  Heat - Edsa Shangri-La           162  Mandaluyong City   \n",
            "3        6318506                    Ooma           162  Mandaluyong City   \n",
            "4        6314302             Sambo Kojin           162  Mandaluyong City   \n",
            "\n",
            "                                             Address  \\\n",
            "0  Third Floor, Century City Mall, Kalayaan Avenu...   \n",
            "1  Little Tokyo, 2277 Chino Roces Avenue, Legaspi...   \n",
            "2  Edsa Shangri-La, 1 Garden Way, Ortigas, Mandal...   \n",
            "3  Third Floor, Mega Fashion Hall, SM Megamall, O...   \n",
            "4  Third Floor, Mega Atrium, SM Megamall, Ortigas...   \n",
            "\n",
            "                                     Locality  \\\n",
            "0   Century City Mall, Poblacion, Makati City   \n",
            "1  Little Tokyo, Legaspi Village, Makati City   \n",
            "2  Edsa Shangri-La, Ortigas, Mandaluyong City   \n",
            "3      SM Megamall, Ortigas, Mandaluyong City   \n",
            "4      SM Megamall, Ortigas, Mandaluyong City   \n",
            "\n",
            "                                    Locality Verbose   Longitude   Latitude  \\\n",
            "0  Century City Mall, Poblacion, Makati City, Mak...  121.027535  14.565443   \n",
            "1  Little Tokyo, Legaspi Village, Makati City, Ma...  121.014101  14.553708   \n",
            "2  Edsa Shangri-La, Ortigas, Mandaluyong City, Ma...  121.056831  14.581404   \n",
            "3  SM Megamall, Ortigas, Mandaluyong City, Mandal...  121.056475  14.585318   \n",
            "4  SM Megamall, Ortigas, Mandaluyong City, Mandal...  121.057508  14.584450   \n",
            "\n",
            "                           Cuisines  ...  Has Online delivery  \\\n",
            "0        French, Japanese, Desserts  ...                   No   \n",
            "1                          Japanese  ...                   No   \n",
            "2  Seafood, Asian, Filipino, Indian  ...                   No   \n",
            "3                   Japanese, Sushi  ...                   No   \n",
            "4                  Japanese, Korean  ...                   No   \n",
            "\n",
            "  Is delivering now Switch to order menu Price range Aggregate rating  \\\n",
            "0                No                   No        High              4.8   \n",
            "1                No                   No        High              4.5   \n",
            "2                No                   No        High              4.4   \n",
            "3                No                   No        High              4.9   \n",
            "4                No                   No        High              4.8   \n",
            "\n",
            "  Rating color Rating text  Votes Restaurant Name Length Address Length  \n",
            "0   Dark Green   Excellent    314                     16             71  \n",
            "1   Dark Green   Excellent    591                     16             67  \n",
            "2        Green   Very Good    270                     22             56  \n",
            "3   Dark Green   Excellent    365                      4             70  \n",
            "4   Dark Green   Excellent    229                     11             64  \n",
            "\n",
            "[5 rows x 23 columns]\n"
          ]
        }
      ]
    },
    {
      "cell_type": "markdown",
      "source": [
        "Create new features like \"Has Table Booking\"\n",
        "or \"Has Online Delivery\" by encoding\n",
        "categorical variables.\n"
      ],
      "metadata": {
        "id": "9D8VX9uaLZad"
      }
    },
    {
      "cell_type": "code",
      "source": [
        "data['Has Table Booking'] = (data['Has Table booking'] == 'Yes').astype(int)\n",
        "data['Has Online Delivery'] = (data['Has Online delivery'] == 'Yes').astype(int)\n",
        "print(data.head())\n",
        "\n"
      ],
      "metadata": {
        "colab": {
          "base_uri": "https://localhost:8080/"
        },
        "id": "EXu_UjLZJOPY",
        "outputId": "66814558-a561-4114-e4e2-054309137764"
      },
      "execution_count": null,
      "outputs": [
        {
          "output_type": "stream",
          "name": "stdout",
          "text": [
            "   Restaurant ID         Restaurant Name  Country Code              City  \\\n",
            "0        6317637        Le Petit Souffle           162       Makati City   \n",
            "1        6304287        Izakaya Kikufuji           162       Makati City   \n",
            "2        6300002  Heat - Edsa Shangri-La           162  Mandaluyong City   \n",
            "3        6318506                    Ooma           162  Mandaluyong City   \n",
            "4        6314302             Sambo Kojin           162  Mandaluyong City   \n",
            "\n",
            "                                             Address  \\\n",
            "0  Third Floor, Century City Mall, Kalayaan Avenu...   \n",
            "1  Little Tokyo, 2277 Chino Roces Avenue, Legaspi...   \n",
            "2  Edsa Shangri-La, 1 Garden Way, Ortigas, Mandal...   \n",
            "3  Third Floor, Mega Fashion Hall, SM Megamall, O...   \n",
            "4  Third Floor, Mega Atrium, SM Megamall, Ortigas...   \n",
            "\n",
            "                                     Locality  \\\n",
            "0   Century City Mall, Poblacion, Makati City   \n",
            "1  Little Tokyo, Legaspi Village, Makati City   \n",
            "2  Edsa Shangri-La, Ortigas, Mandaluyong City   \n",
            "3      SM Megamall, Ortigas, Mandaluyong City   \n",
            "4      SM Megamall, Ortigas, Mandaluyong City   \n",
            "\n",
            "                                    Locality Verbose   Longitude   Latitude  \\\n",
            "0  Century City Mall, Poblacion, Makati City, Mak...  121.027535  14.565443   \n",
            "1  Little Tokyo, Legaspi Village, Makati City, Ma...  121.014101  14.553708   \n",
            "2  Edsa Shangri-La, Ortigas, Mandaluyong City, Ma...  121.056831  14.581404   \n",
            "3  SM Megamall, Ortigas, Mandaluyong City, Mandal...  121.056475  14.585318   \n",
            "4  SM Megamall, Ortigas, Mandaluyong City, Mandal...  121.057508  14.584450   \n",
            "\n",
            "                           Cuisines  ...  Switch to order menu Price range  \\\n",
            "0        French, Japanese, Desserts  ...                    No           3   \n",
            "1                          Japanese  ...                    No           3   \n",
            "2  Seafood, Asian, Filipino, Indian  ...                    No           4   \n",
            "3                   Japanese, Sushi  ...                    No           4   \n",
            "4                  Japanese, Korean  ...                    No           4   \n",
            "\n",
            "  Aggregate rating Rating color Rating text Votes  Restaurant Name Length  \\\n",
            "0              4.8   Dark Green   Excellent   314                      16   \n",
            "1              4.5   Dark Green   Excellent   591                      16   \n",
            "2              4.4        Green   Very Good   270                      22   \n",
            "3              4.9   Dark Green   Excellent   365                       4   \n",
            "4              4.8   Dark Green   Excellent   229                      11   \n",
            "\n",
            "   Address Length Has Table Booking Has Online Delivery  \n",
            "0              71                 1                   0  \n",
            "1              67                 1                   0  \n",
            "2              56                 1                   0  \n",
            "3              70                 0                   0  \n",
            "4              64                 1                   0  \n",
            "\n",
            "[5 rows x 25 columns]\n"
          ]
        }
      ]
    }
  ]
}